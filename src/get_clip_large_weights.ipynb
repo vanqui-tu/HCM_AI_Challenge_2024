{
 "cells": [
  {
   "cell_type": "code",
   "execution_count": null,
   "metadata": {},
   "outputs": [],
   "source": [
    "import torch \n",
    "import clip\n",
    "import PIL\n",
    "import numpy as np\n",
    "from torch.utils.data import Dataset, DataLoader\n",
    "from tqdm import tqdm\n",
    "from const import *\n",
    "import os"
   ]
  },
  {
   "cell_type": "code",
   "execution_count": null,
   "metadata": {},
   "outputs": [],
   "source": [
    "if torch.cuda.is_available():\n",
    "    device = torch.device(\"cuda\")\n",
    "    data_type = torch.float16\n",
    "else:\n",
    "    device = torch.device(\"cpu\")\n",
    "    data_type = torch.float32"
   ]
  },
  {
   "cell_type": "code",
   "execution_count": null,
   "metadata": {},
   "outputs": [],
   "source": [
    "class KeyFrameDataset(Dataset):\n",
    "    def __init__(self, vid, preprocess=None):\n",
    "        self.preprocess = preprocess\n",
    "        self.vid = vid\n",
    "        self.keyframe_ids = []\n",
    "        for fid in os.listdir(os.path.join(KEYFRAME_PATH, vid)):\n",
    "            self.keyframe_ids.append(fid.replace('.jpg', ''))\n",
    "\n",
    "    def __len__(self):\n",
    "        return len(self.keyframe_ids)\n",
    "\n",
    "    def __getitem__(self, index):\n",
    "        fid = self.keyframe_ids[index]\n",
    "        try:\n",
    "            image_path = KEYFRAME_PATH + self.vid + f\"/{fid}.jpg\"\n",
    "            img = PIL.Image.open(image_path).convert(\"RGB\")\n",
    "            if self.preprocess is not None:\n",
    "                img = self.preprocess(img)\n",
    "            return self.vid, fid, img\n",
    "        except Exception as e:\n",
    "            print(f\"Exception: {e}\")"
   ]
  },
  {
   "cell_type": "code",
   "execution_count": null,
   "metadata": {},
   "outputs": [],
   "source": [
    "def extract_feature(dataset, model):\n",
    "    dataloader = DataLoader(dataset, batch_size=32, shuffle=False)\n",
    "\n",
    "    features = []\n",
    "\n",
    "    with torch.no_grad():\n",
    "        for video_id, keyframe_id, img in tqdm(dataloader):\n",
    "            img = img.to(device)\n",
    "            img_feature = model.encode_image(img)\n",
    "            vector_list = img_feature.cpu().tolist()\n",
    "            for vector in vector_list:\n",
    "                features.append(vector)\n",
    "            \n",
    "    with open(FEATURE_LARGE_PATH + dataset.vid + '.npy' , 'wb') as f:\n",
    "        np.save(f, np.array(features))\n",
    "   "
   ]
  },
  {
   "cell_type": "code",
   "execution_count": null,
   "metadata": {},
   "outputs": [],
   "source": [
    "if not os.path.exists(FEATURE_LARGE_PATH):\n",
    "        os.makedirs(FEATURE_LARGE_PATH)"
   ]
  },
  {
   "cell_type": "code",
   "execution_count": null,
   "metadata": {},
   "outputs": [],
   "source": [
    "clip_model, preprocess = clip.load('ViT-L/14@336px', device=device)\n",
    "clip_model.eval()"
   ]
  },
  {
   "cell_type": "code",
   "execution_count": null,
   "metadata": {},
   "outputs": [],
   "source": [
    "kf_folders = [name for name in os.listdir(KEYFRAME_PATH) if os.path.isdir(os.path.join(KEYFRAME_PATH, name)) and name.startswith('L01')]\n",
    "for kf_folder in tqdm(kf_folders):  \n",
    "    dataset = KeyFrameDataset(vid=kf_folder, preprocess=preprocess)\n",
    "    extract_feature(dataset=dataset, model=clip_model)"
   ]
  }
 ],
 "metadata": {
  "kernelspec": {
   "display_name": "rcnn-env",
   "language": "python",
   "name": "python3"
  },
  "language_info": {
   "codemirror_mode": {
    "name": "ipython",
    "version": 3
   },
   "file_extension": ".py",
   "mimetype": "text/x-python",
   "name": "python",
   "nbconvert_exporter": "python",
   "pygments_lexer": "ipython3",
   "version": "3.10.13"
  },
  "orig_nbformat": 4
 },
 "nbformat": 4,
 "nbformat_minor": 2
}
